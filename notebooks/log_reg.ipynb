{
 "cells": [
  {
   "cell_type": "markdown",
   "metadata": {},
   "source": [
    "## Logistic Regression\n",
    "\n",
    "Playground notebook for implementing logistic regression on preprocessed data"
   ]
  },
  {
   "cell_type": "code",
   "execution_count": 2,
   "metadata": {},
   "outputs": [],
   "source": [
    "import pandas as pd\n",
    "import numpy as np\n"
   ]
  },
  {
   "cell_type": "code",
   "execution_count": 103,
   "metadata": {},
   "outputs": [],
   "source": [
    "# load preprocessed data\n",
    "df = pd.read_parquet('../data/preprocessed.parquet')"
   ]
  },
  {
   "cell_type": "markdown",
   "metadata": {},
   "source": [
    "### Dealing with Class Imbalance\n",
    "\n",
    "From the EDA, we observed that number of users that didn't churned exceeds those that did by quite a far bit. This issue of class imbalance has to be addressed before fitting the model.\n",
    "\n",
    "Failure to address this issue might lead to high accuracy in predicting the majority class (users that didn't churn) but fail to capture the minority class.\n",
    "\n",
    "I'll leverage on over-sanmpling as the approach to deal with class imbalance. The technique used here will be Synthetic Minority Oversampling Technique, or SMOTE, which generates synthetic data for the minority class.\n",
    "\n",
    "**What is SMOTE?**  \n",
    ">SMOTE (Synthetic Minority Oversampling Technique) works by randomly picking a point from the minority class and computing the k-nearest neighbors for this point. The synthetic points are added between the chosen point and its neighbors."
   ]
  },
  {
   "cell_type": "code",
   "execution_count": 18,
   "metadata": {},
   "outputs": [],
   "source": [
    "from imblearn.over_sampling import SMOTENC"
   ]
  },
  {
   "cell_type": "code",
   "execution_count": null,
   "metadata": {},
   "outputs": [],
   "source": [
    "cat_covariates = ['gender', 'SeniorCitizen', 'Partner', 'Dependents','PhoneService', 'MultipleLines', 'InternetService', 'OnlineSecurity', 'OnlineBackup', 'DeviceProtection', 'TechSupport', 'StreamingTV', 'StreamingMovies', 'Contract', 'PaperlessBilling', 'PaymentMethod']"
   ]
  },
  {
   "cell_type": "code",
   "execution_count": 101,
   "metadata": {},
   "outputs": [],
   "source": [
    "def apply_smotenc (data,cat_covariates_lst):\n",
    "    \"\"\"\n",
    "    Function to apply SMOTE-NC on dataset\n",
    "\n",
    "    Args:\n",
    "        data [dataframe]: dataframe with both predictor and target variables, consisting of binary, categorical or continuous variables. NaN values are not allowed\n",
    "        cat_covariates_lst [list]: list of names for the categorical variables\n",
    "\n",
    "    Returns:\n",
    "        df_smote [dataframe]: final dataset with SMOTE\n",
    "    \n",
    "    \"\"\"\n",
    "\n",
    "    try:\n",
    "        # locate columns index where attributes are categorical variables\n",
    "        cat_feat = np.where(data.iloc[:,:-1].columns.isin(cat_covariates_lst))[0]\n",
    "\n",
    "        # initialise SMOTENC\n",
    "        smote_nc = SMOTENC(categorical_features=cat_feat)\n",
    "\n",
    "        # fit predictor and target variable\n",
    "        x_smote, y_smote = smote_nc.fit_resample(data.iloc[:,:-1].to_numpy(),data.iloc[:,-1].to_numpy())\n",
    "\n",
    "    except Exception as e:\n",
    "        print(e)\n",
    "\n",
    "    finally:\n",
    "        # convert x and y arrays to dataframe\n",
    "        x_smote_df = pd.DataFrame(x_smote,columns=data.iloc[:,:-1].columns)\n",
    "        y_smote_df = pd.DataFrame(y_smote,columns=[data.iloc[:,-1].name])\n",
    "\n",
    "        # concat into single dataframe\n",
    "        df_smote = pd.concat([x_smote_df,y_smote_df],axis=1)\n",
    "\n",
    "        return df_smote\n",
    "        \n",
    "    "
   ]
  },
  {
   "cell_type": "code",
   "execution_count": 104,
   "metadata": {},
   "outputs": [],
   "source": [
    "df_smote = apply_smotenc(df,cat_covariates)"
   ]
  },
  {
   "cell_type": "code",
   "execution_count": 109,
   "metadata": {},
   "outputs": [
    {
     "data": {
      "text/plain": [
       "No     5163\n",
       "Yes    5163\n",
       "Name: Churn, dtype: int64"
      ]
     },
     "execution_count": 109,
     "metadata": {},
     "output_type": "execute_result"
    }
   ],
   "source": [
    "df_smote.Churn.value_counts()"
   ]
  },
  {
   "cell_type": "markdown",
   "metadata": {},
   "source": [
    "After applying SMOTE, we have successfully balanced the churn class to equal ratio."
   ]
  },
  {
   "cell_type": "markdown",
   "metadata": {},
   "source": [
    "### Applying Logistic Regression"
   ]
  }
 ],
 "metadata": {
  "kernelspec": {
   "display_name": "Python 3.9.10 ('.venv': venv)",
   "language": "python",
   "name": "python3"
  },
  "language_info": {
   "codemirror_mode": {
    "name": "ipython",
    "version": 3
   },
   "file_extension": ".py",
   "mimetype": "text/x-python",
   "name": "python",
   "nbconvert_exporter": "python",
   "pygments_lexer": "ipython3",
   "version": "3.9.10"
  },
  "orig_nbformat": 4,
  "vscode": {
   "interpreter": {
    "hash": "2f04354d8c0449aa60f89e058c8d9d41a28ec64444b5680782a79f63a752d6eb"
   }
  }
 },
 "nbformat": 4,
 "nbformat_minor": 2
}
